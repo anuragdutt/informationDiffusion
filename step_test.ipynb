{
 "cells": [
  {
   "cell_type": "code",
   "execution_count": 2,
   "id": "approved-insight",
   "metadata": {},
   "outputs": [
    {
     "name": "stdout",
     "output_type": "stream",
     "text": [
      "3.7.9 (default, Aug 31 2020, 12:42:55) \n",
      "[GCC 7.3.0]\n"
     ]
    }
   ],
   "source": [
    "import os\n",
    "os.environ[\"PATH\"] += os.pathsep + 'C:/Users/anura/anaconda3/Library/bin/graphviz'\n",
    "import sys\n",
    "import networkx as nx\n",
    "import numpy as np\n",
    "import random\n",
    "import pickle\n",
    "import sys\n",
    "from numba import jit\n",
    "import elfi\n",
    "import sklearn as sk\n",
    "import scipy\n",
    "from scipy.spatial import distance\n",
    "import pandas as pd\n",
    "import sys\n",
    "print(sys.version)"
   ]
  },
  {
   "cell_type": "code",
   "execution_count": 3,
   "id": "noticed-anatomy",
   "metadata": {},
   "outputs": [],
   "source": [
    "seed = 20170530  # this will be separately given to ELFI\n",
    "np.random.seed(seed)\n",
    "N = 1 # samples for rejection sampling\n",
    "networktype = 'pref' #pref, smallworld, grid, ER, korea1, korea2, ckm\n",
    "# nAgents = 4**2\n",
    "# nAgents = 10**2\n",
    "# sidelength = int(nAgents**.5) #10^2 = 100, 32^2 = 1024\n",
    "#haltMin = .6 # minimum % of nodes active\n",
    "#haltMax = .7 # maximum % of nodes active\n",
    "\n",
    "# pRewire = .1 # proportion of edges to rewire\n",
    "# numDatasets = 100 # number of data sets to generate\n",
    "# saveData = True #save the output to file?\n"
   ]
  },
  {
   "cell_type": "code",
   "execution_count": 4,
   "id": "spatial-applicant",
   "metadata": {},
   "outputs": [
    {
     "name": "stdout",
     "output_type": "stream",
     "text": [
      "2.5\n",
      "Name: \n",
      "Type: Graph\n",
      "Number of nodes: 23882\n",
      "Number of edges: 132054\n",
      "Average degree:  11.0589\n",
      "23882\n",
      "connected?\tFalse\n",
      "# of connected components:\t57\n"
     ]
    }
   ],
   "source": [
    "print(nx.__version__)\n",
    "#parameters of the script\n",
    "path = '../data/icpsr/DS0001/paluck-edgelist.csv'\n",
    "edgelist = pd.read_csv(path)\n",
    "G = nx.from_pandas_edgelist(edgelist, source='ID', target='PEERID')\n",
    "print(nx.info(G))\n",
    "print(nx.number_of_nodes(G))\n",
    "print(f'connected?\\t{nx.is_connected(G)}')\n",
    "print(f'# of connected components:\\t{nx.number_connected_components(G)}')\n",
    "\n",
    "components = nx.connected_components(G)\n",
    "sglist = [G.subgraph(c) for c in nx.connected_components(G)]\n",
    "\n",
    "gmat = []\n",
    "for g in sglist:\n",
    "    gmat.append(nx.to_numpy_matrix(g, dtype=np.float))\n"
   ]
  },
  {
   "cell_type": "code",
   "execution_count": null,
   "id": "interracial-context",
   "metadata": {},
   "outputs": [],
   "source": [
    "print(len(sglist))"
   ]
  },
  {
   "cell_type": "code",
   "execution_count": 5,
   "id": "forbidden-inclusion",
   "metadata": {},
   "outputs": [],
   "source": [
    "#for i in range(len(sglist)):\n",
    "#    print('# of nodes in {i}th component is  - ', str(np.mean(gmat[i])))\n",
    "seeds = pd.read_csv(\"../data/icpsr/DS0001/paluck-seed.csv\")\n",
    "seeds['ID'] = ((seeds['SCHIDW2'] * 1000) + pd.to_numeric(seeds['ID'], errors='coerce'))"
   ]
  },
  {
   "cell_type": "code",
   "execution_count": 6,
   "id": "supposed-overall",
   "metadata": {},
   "outputs": [
    {
     "name": "stderr",
     "output_type": "stream",
     "text": [
      " /home/gary/.conda/envs/elfi/lib/python3.7/site-packages/IPython/core/interactiveshell.py:3156: DtypeWarning:Columns (238,242,244,245,246,247,248,249,382) have mixed types.Specify dtype option on import or set low_memory=False.\n"
     ]
    }
   ],
   "source": [
    "es = pd.read_csv(\"../data/icpsr/DS0001/paluck-endstate.csv\")\n",
    "es['ID'] = ((es['SCHIDW2'] * 1000) + pd.to_numeric(es['ID'], errors='coerce'))"
   ]
  },
  {
   "cell_type": "code",
   "execution_count": null,
   "id": "frequent-daughter",
   "metadata": {},
   "outputs": [],
   "source": [
    "def testThresh(agents, mn, mx):\n",
    "    if np.mean(agents) > mx:\n",
    "        return False\n",
    "    if np.mean(agents) < mn:\n",
    "        return False\n",
    "    if np.mean(agents) <= 0:\n",
    "        return False\n",
    "    if np.mean(agents) >= 1:\n",
    "        return False\n",
    "\n",
    "    return True\n"
   ]
  },
  {
   "cell_type": "code",
   "execution_count": 7,
   "id": "promising-response",
   "metadata": {},
   "outputs": [],
   "source": [
    "#n,a = getGraphFromEdgelist(path)\n",
    "net_s = sglist[0]\n",
    "adjMat_s = gmat[0]"
   ]
  },
  {
   "cell_type": "code",
   "execution_count": 9,
   "id": "labeled-greene",
   "metadata": {},
   "outputs": [
    {
     "name": "stdout",
     "output_type": "stream",
     "text": [
      "total 14840\r\n",
      "-rw-r--r-- 1 gary     2368 Feb 23 00:51 flexible_analyze.py\r\n",
      "-rw-r--r-- 1 gary    13035 Feb 23 00:51 flexible_thresholds.py\r\n",
      "-rw-r--r-- 1 gary    12703 Feb 23 07:42 gennet_abc_backup.ipynb\r\n",
      "-rw-r--r-- 1 gary    18124 Feb 23 00:51 nearest_neighbour_analysis.py\r\n",
      "-rw-r--r-- 1 gary     2847 Feb 23 00:51 paluck-edgelist-endstate.py\r\n",
      "-rw-r--r-- 1 gary     2765 Feb 23 00:51 paluck-networks-extract.py\r\n",
      "-rw-r--r-- 1 gary      428 Feb 23 00:51 paluck-networks-load.py\r\n",
      "-rw-r--r-- 1 gary    16865 Mar  3 17:31 rejection_sampling_all_graphs.ipynb\r\n",
      "-rw-r--r-- 1 gary   976813 Mar  6 21:14 rejection_sampling_test.ipynb\r\n",
      "-rw-r--r-- 1 gary 14074389 Feb 24 02:04 sequential_monte_carlo.ipynb\r\n",
      "-rw-r--r-- 1 gary     4549 Mar 13 12:20 step_test.ipynb\r\n",
      "-rw-r--r-- 1 gary    40417 Mar  3 18:47 summary_stats.ipynb\r\n"
     ]
    }
   ],
   "source": [
    "ll"
   ]
  },
  {
   "cell_type": "code",
   "execution_count": null,
   "id": "ordered-costa",
   "metadata": {},
   "outputs": [],
   "source": []
  }
 ],
 "metadata": {
  "kernelspec": {
   "display_name": "Python 3",
   "language": "python",
   "name": "python3"
  },
  "language_info": {
   "codemirror_mode": {
    "name": "ipython",
    "version": 3
   },
   "file_extension": ".py",
   "mimetype": "text/x-python",
   "name": "python",
   "nbconvert_exporter": "python",
   "pygments_lexer": "ipython3",
   "version": "3.7.9"
  }
 },
 "nbformat": 4,
 "nbformat_minor": 5
}
